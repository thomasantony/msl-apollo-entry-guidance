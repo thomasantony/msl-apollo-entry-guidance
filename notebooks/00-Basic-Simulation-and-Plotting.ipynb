{
 "cells": [
  {
   "cell_type": "code",
   "execution_count": 1,
   "id": "9edf975f-73d3-4468-992f-0412ae376920",
   "metadata": {},
   "outputs": [],
   "source": [
    "import numpy as np\n",
    "from scipy.integrate import solve_ivp\n",
    "import matplotlib.pyplot as plt\n",
    "\n",
    "import itertools as it\n",
    "from typing import Callable, Optional\n"
   ]
  },
  {
   "cell_type": "code",
   "execution_count": 2,
   "id": "d0f10e44-4435-4e22-ac4a-c280a21fceab",
   "metadata": {},
   "outputs": [],
   "source": [
    "def nolift_bank_angle_fn(t: float, state: np.array, parameters: dict):\n",
    "    # Ballistic trajectory, bank angle = 90 deg for zero lift\n",
    "    return np.pi/2\n",
    "\n",
    "def ballistic_traj_eom(t: float, \n",
    "                       state: np.array, \n",
    "                       parameters: dict,\n",
    "                       bank_angle_fn: Callable[[float, np.array, dict], float]\n",
    "                      ):\n",
    "    h, s, V, gam = state\n",
    "    u = bank_angle_fn(t, state, parameters)\n",
    "    \n",
    "    rho0 = parameters['rho0']\n",
    "    H = parameters['H']\n",
    "    beta = parameters['beta']   # m/(Cd * Aref)\n",
    "    LD = parameters['LD']\n",
    "    R_m = parameters['R_m']\n",
    "    g = parameters['g']\n",
    "    \n",
    "    V2 = V*V\n",
    "    rho = rho0 * np.exp(-h/H) \n",
    "    D_m = rho * V2 / (2 * beta)  # Drag Acceleration (D/m)\n",
    "    \n",
    "    return np.array([V * np.sin(gam),  # dh/dt\n",
    "                     V * np.cos(gam),  # ds/dt\n",
    "                     -D_m - g*np.sin(gam),  # dV/dt\n",
    "                     (V2 * np.cos(gam)/(R_m+h) + D_m*LD*np.cos(u) - g*np.cos(gam))/V] # dgam/dt\n",
    "                   )\n",
    "\n",
    "def altitude_stop_event(t, state, parameters, _):\n",
    "    \"\"\"Defines stopping condition for numerical integration\"\"\"\n",
    "    return state[0] - 20e3  # 20km altitude\n",
    "\n",
    "altitude_stop_event.terminal = True\n",
    "altitude_stop_event.direction = -1"
   ]
  },
  {
   "cell_type": "code",
   "execution_count": 3,
   "id": "4236e079-f5d8-40ef-b4c6-12135853e0de",
   "metadata": {},
   "outputs": [
    {
     "data": {
      "text/plain": [
       "array([-1.37709002e+03,  5.32481202e+03,  8.83046605e-01,  8.64794736e-04])"
      ]
     },
     "execution_count": 3,
     "metadata": {},
     "output_type": "execute_result"
    }
   ],
   "source": [
    "h0 = 120e3; # Entry altitude\n",
    "V0 = 5500;  # Entry velocity\n",
    "gamma0_deg = -14.5; # Entry flight path angle\n",
    "s0 = 0\n",
    "\n",
    "parameters = {'H': 11.1e3,\n",
    "              'rho0': 0.020, # kg/m^3\n",
    "              'beta': 120,\n",
    "              'LD': 0.24,\n",
    "              'R_m': 3380e3,\n",
    "              'g': 3.73}\n",
    "\n",
    "X0 = np.array([h0, s0, V0, np.deg2rad(gamma0_deg)])\n",
    "t0 = 0\n",
    "tf = 500.\n",
    "tspan = np.linspace(t0, tf, 1001)\n",
    "\n",
    "ballistic_traj_eom(0, X0, parameters, nolift_bank_angle_fn)"
   ]
  },
  {
   "cell_type": "code",
   "execution_count": 4,
   "id": "1b2ff9ad-6939-42ec-aad6-1d2a4363631e",
   "metadata": {},
   "outputs": [
    {
     "name": "stdout",
     "output_type": "stream",
     "text": [
      "(4, 188)\n"
     ]
    }
   ],
   "source": [
    "output = solve_ivp(ballistic_traj_eom, \n",
    "                   [t0, tf], \n",
    "                   X0, \n",
    "                   args=(parameters, nolift_bank_angle_fn), \n",
    "                   t_eval=tspan,\n",
    "                   rtol=1e-5, events=altitude_stop_event)\n",
    "print(output.y.shape)"
   ]
  },
  {
   "cell_type": "code",
   "execution_count": 5,
   "id": "8e669e69-1cb2-452d-8a46-7d46156dea92",
   "metadata": {},
   "outputs": [
    {
     "data": {
      "image/png": "[encoded data removed]",
      "text/plain": [
       "<Figure size 640x480 with 1 Axes>"
      ]
     },
     "metadata": {},
     "output_type": "display_data"
    }
   ],
   "source": [
    "plt.plot(output.y[2,:]/1e3, output.y[0,:]/1e3)\n",
    "plt.xlabel('V [km/s]')\n",
    "plt.ylabel('h [km]')\n",
    "plt.grid(True)\n",
    "plt.show()"
   ]
  },
  {
   "cell_type": "markdown",
   "id": "ed863621-1b18-490c-ba93-a0034864997a",
   "metadata": {},
   "source": [
    "# Simplifying the Simulator interface"
   ]
  },
  {
   "cell_type": "code",
   "execution_count": 8,
   "id": "e838093e-ff2e-405e-8bc4-9337a9b6d56b",
   "metadata": {},
   "outputs": [],
   "source": [
    "import numpy as np\n",
    "from scipy.integrate import solve_ivp\n",
    "from typing import Callable, Optional\n",
    "\n",
    "class Trajectory:\n",
    "    \"\"\"Data structure for holding the result of a simulation run\"\"\"\n",
    "    def __init__(self, t: float, X: np.array, u: np.array, parameters: dict):\n",
    "        self.t = t\n",
    "        self.X = X\n",
    "        self.u = u\n",
    "        self.parameters = parameters\n",
    "        \n",
    "    def eval_scalar(self, fn: Callable[[float, np.array], float]):\n",
    "        \"\"\"Applies a function that takes in as its arguments a values of\n",
    "           t and X at a single instant in time and returns a scalar\n",
    "        \"\"\"\n",
    "        return np.fromiter(\n",
    "                    it.starmap(\n",
    "                       fn, \n",
    "                       zip(self.t, self.X)\n",
    "                    ),\n",
    "               dtype=np.float64\n",
    "        )\n",
    "\n",
    "def simulate_entry_trajectory(eom: Callable[[float, np.array], np.array], \n",
    "                              t0: float, \n",
    "                              tf: float, \n",
    "                              X0: np.array, \n",
    "                              h_f: float, \n",
    "                              params: dict,\n",
    "                              bank_angle_fn: Callable[[float, np.array, dict], float],\n",
    "                              t_eval: Optional[np.array] = None) -> Trajectory:\n",
    "\n",
    "    altitude_stop_event = lambda t, X, params, _: X[0] - h_f\n",
    "    altitude_stop_event.terminal = True\n",
    "    altitude_stop_event.direction = -1\n",
    "    \n",
    "    output = solve_ivp(eom, \n",
    "                   [t0, tf], \n",
    "                   X0, \n",
    "                   args=(params, bank_angle_fn), \n",
    "                   t_eval=t_eval,\n",
    "                   rtol=1e-5, events=altitude_stop_event)\n",
    "    \n",
    "    # loop over output and compute bank angle for each timestep\n",
    "    num_steps = len(output.t)\n",
    "\n",
    "    u = np.zeros(num_steps)\n",
    "    for i, (t, X) in enumerate(zip(output.t, output.y.T)):\n",
    "        u[i] = bank_angle_fn(t, X, params)\n",
    "        \n",
    "    # Transpose y so that each state is in a separate column and each row \n",
    "    # represents a timestep\n",
    "    return Trajectory(output.t, output.y.T, u, params)"
   ]
  },
  {
   "cell_type": "code",
   "execution_count": 9,
   "id": "f3057c56-77d1-44e3-8941-703293df1314",
   "metadata": {},
   "outputs": [],
   "source": [
    "traj = simulate_entry_trajectory(ballistic_traj_eom, t0, tf, X0, 20e3, parameters, nolift_bank_angle_fn, tspan)"
   ]
  },
  {
   "cell_type": "code",
   "execution_count": null,
   "id": "a4ac121d-dc6c-4ed3-a293-eb8dd21b25d7",
   "metadata": {},
   "outputs": [],
   "source": []
  }
 ],
 "metadata": {
  "kernelspec": {
   "display_name": "Python 3",
   "language": "python",
   "name": "python3"
  },
  "language_info": {
   "codemirror_mode": {
    "name": "ipython",
    "version": 3
   },
   "file_extension": ".py",
   "mimetype": "text/x-python",
   "name": "python",
   "nbconvert_exporter": "python",
   "pygments_lexer": "ipython3",
   "version": "3.9.1"
  }
 },
 "nbformat": 4,
 "nbformat_minor": 5
}
