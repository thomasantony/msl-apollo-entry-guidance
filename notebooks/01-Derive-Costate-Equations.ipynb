{
 "cells": [
  {
   "cell_type": "code",
   "execution_count": 44,
   "id": "2255a959-2119-41bf-b7b5-2389721559d8",
   "metadata": {},
   "outputs": [],
   "source": [
    "import sympy as sp\n",
    "from sympy import sin, cos, exp"
   ]
  },
  {
   "cell_type": "code",
   "execution_count": 60,
   "id": "77ebea91-85ef-44f8-9c3f-915e2eace17c",
   "metadata": {},
   "outputs": [
    {
     "name": "stdout",
     "output_type": "stream",
     "text": [
      "-LD*lamGAM*rho0*v*exp(-h/H)*sin(u)/(2*beta)\n",
      "lamHdot = D_m*LD*lamGAM*cos(u)/(H*v) - D_m*lamV/H + lamGAM*v*cos(gam)/r**2\n",
      "lamSdot = 0\n",
      "lamVdot = D_m*LD*lamGAM*cos(u)/v**2 - LD*lamGAM*rho*cos(u)/beta - g*lamGAM*cos(gam)/v**2 - lamGAM*cos(gam)/r - lamH*sin(gam) - lamS*cos(gam) + lamV*rho*v/beta\n",
      "lamGAMdot = -g*lamGAM*sin(gam)/v + g*lamV*cos(gam) + lamGAM*v*sin(gam)/r - lamH*v*cos(gam) + lamS*v*sin(gam)\n",
      "lamUdot = -LD*lamGAM*rho*v*sin(u)/(2*beta)\n"
     ]
    }
   ],
   "source": [
    "h, s, v, gam = sp.symbols('h s v gam')\n",
    "lamH, lamS, lamV, lamGAM, w = sp.symbols('lamH lamS lamV lamGAM w')\n",
    "\n",
    "rho0, H, beta, LD, R_m, g, rho0, g = sp.symbols('rho0, H, beta, LD, R_m, g, rho0, g')\n",
    "u = sp.symbols('u')\n",
    "\n",
    "# Define sub-expressions to make things a bit easier to read\n",
    "v2 = v*v\n",
    "rho = rho0 * sp.exp(-h/H) \n",
    "D_m = rho * V2 / (2 * beta)\n",
    "r = R_m + h\n",
    "\n",
    "# Define equations of motion f(t, x, u)\n",
    "f = sp.Matrix([v * sin(gam),       # dh/dt\n",
    "     v * cos(gam),       # ds/dt\n",
    "     -D_m - g*sin(gam),  # dV/dt\n",
    "     (v2 * cos(gam)/r + D_m*LD*cos(u) - g*cos(gam))/v # dgam/dt. Hint: L/m = (D/m) * (L/D)\n",
    "    ])\n",
    "\n",
    "lamT = sp.Matrix([lamH, lamS, lamV, lamGAM])\n",
    "X = sp.Matrix([h, s, v, gam])\n",
    "\n",
    "# lamda_dot = - lambda_T . df/dx\n",
    "dLamDt = [-lamT.dot(f.diff(x)) for x in X]\n",
    "\n",
    "# Add lamU\n",
    "dLamUDt = (lamT.dot(f)).diff(u)\n",
    "dLamDt.append(dLamUDt)\n",
    "\n",
    "# Substitute some sub-expressions\n",
    "dLamDt = [expr.subs({D_m: 'D_m', r: 'r', rho: 'rho'})\n",
    "          for expr in dLamDt]\n",
    "\n",
    "lam_vars = [str(lam) for lam in lamT]\n",
    "lam_vars.append('lamU')\n",
    "for var, expr in zip(lam_vars, dLamDt):\n",
    "    print(str(var)+'dot','=',expr.simplify())"
   ]
  },
  {
   "cell_type": "code",
   "execution_count": null,
   "id": "619a540a-0766-42fd-a5b8-420e03a13ec1",
   "metadata": {},
   "outputs": [],
   "source": []
  }
 ],
 "metadata": {
  "kernelspec": {
   "display_name": "Python 3",
   "language": "python",
   "name": "python3"
  },
  "language_info": {
   "codemirror_mode": {
    "name": "ipython",
    "version": 3
   },
   "file_extension": ".py",
   "mimetype": "text/x-python",
   "name": "python",
   "nbconvert_exporter": "python",
   "pygments_lexer": "ipython3",
   "version": "3.9.1"
  }
 },
 "nbformat": 4,
 "nbformat_minor": 5
}
