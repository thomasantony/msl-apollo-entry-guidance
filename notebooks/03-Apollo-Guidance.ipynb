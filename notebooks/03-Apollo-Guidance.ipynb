{
 "cells": [
  {
   "cell_type": "code",
   "execution_count": 1,
   "id": "1b2af8c8-9bc3-4ff3-8895-02572d81eb64",
   "metadata": {},
   "outputs": [],
   "source": [
    "import numpy as np\n",
    "import matplotlib.pyplot as plt\n",
    "from numpy import sin, cos, exp\n",
    "\n",
    "from scipy.integrate import solve_ivp\n",
    "\n",
    "from typing import Callable\n",
    "\n",
    "import sim_utils\n",
    "import apollo_utils"
   ]
  },
  {
   "cell_type": "code",
   "execution_count": 2,
   "id": "6bcce109-cdf1-471f-8491-5462e5dc3b3d",
   "metadata": {},
   "outputs": [],
   "source": [
    "class ApolloGuidanceBankController:   \n",
    "    def __init__(self, ref_data: apollo_utils.ApolloReferenceData, K: float = 1):\n",
    "        \"\"\"K: Over-control gain\"\"\"\n",
    "        self.ref_data = ref_data\n",
    "        self.K = K\n",
    "    \n",
    "    @staticmethod\n",
    "    def from_file(filename: str):\n",
    "        \"\"\"Loads reference data from a file and initializes a new guidance controller\"\"\"\n",
    "        ref_data = apollo_utils.ApolloReferenceData.load(filename)\n",
    "        return ApolloGuidanceBankController(ref_data)\n",
    "\n",
    "    def reference_bank_angle(self, t, state, params):\n",
    "        \"\"\"Bank angle function for open loop guidance that simply returns\n",
    "           the reference bank angle\"\"\"\n",
    "        v = state[2]\n",
    "        if v >= 3500:\n",
    "            return np.deg2rad(75);\n",
    "        elif v <= 1500:\n",
    "            return np.deg2rad(50);\n",
    "        else:\n",
    "            return np.deg2rad(50 + (75-50)*(v-1500)/(3500-1500))\n",
    "    \n",
    "    def closed_loop_guidance(self, t, state, params):\n",
    "        h, s, v, gam = state\n",
    "        \n",
    "        rho0 = params['rho0']\n",
    "        beta = params['beta']\n",
    "        H = params['H']\n",
    "        \n",
    "        ref_data_row = self.ref_data.get_row_by_velocity(v)\n",
    "        \n",
    "        h_ref, s_ref, v_ref, gam_ref = ref_data_row[1:5]\n",
    "        F1, F2, F3, D_m_ref = ref_data_row[5:9]\n",
    "        \n",
    "        rho = rho0 * exp(-h/H) \n",
    "        D_m = rho * v * v / (2 * beta)  # Drag Acceleration (D/m)\n",
    "        \n",
    "        # Compute reference bankangle\n",
    "        phi = self.reference_bank_angle(t, state, params)\n",
    "\n",
    "        # Add correction based on Apollo guidance algorithm\n",
    "        phi = phi + self.K * ( -(s-s_ref) - F2*(h-h_ref) + F1*(D_m - D_m_ref ))/F3\n",
    "        phi = abs(phi)\n",
    "        phi = max(min(phi, np.pi), 0)\n",
    "        return phi"
   ]
  },
  {
   "cell_type": "markdown",
   "id": "fa3d98da-e9e9-4532-937e-997b8d6d55ff",
   "metadata": {},
   "source": [
    "# Monte Carlo Simulation"
   ]
  },
  {
   "cell_type": "code",
   "execution_count": 6,
   "id": "f8a275c2-b697-4468-af41-dc6c7d657f91",
   "metadata": {},
   "outputs": [
    {
     "name": "stderr",
     "output_type": "stream",
     "text": [
      "100%|██████████| 1000/1000 [00:35<00:00, 28.27it/s]\n"
     ]
    }
   ],
   "source": [
    "import tqdm.contrib\n",
    "\n",
    "def monte_carlo_simulation(bank_controller, num_iter=1000):\n",
    "    \"\"\"Performs monte carlo simulations with pre-defined initial conditions\n",
    "       and variances for given bank controller\"\"\"\n",
    "    \n",
    "    # Initial conditions\n",
    "    h0 = 120e3; # Entry altitude\n",
    "    V0 = 5500;  # Entry velocity\n",
    "    gamma0_deg = -14.5; # Entry flight path angle\n",
    "    s0 = 0\n",
    "\n",
    "    # Model parameters\n",
    "    params = {'H': 11.1e3,\n",
    "                  'rho0': 0.020, # kg/m^3\n",
    "                  'beta': 120,\n",
    "                  'LD': 0.24,\n",
    "                  'R_m': 3380e3,\n",
    "                  'g': 3.73}\n",
    "\n",
    "    # Terminal altitude\n",
    "    h_f = 20e3\n",
    "\n",
    "    gamma0 = np.deg2rad(gamma0_deg)\n",
    "\n",
    "    t0 = 0\n",
    "    tf = 500.\n",
    "    tspan = np.linspace(t0, tf, 1001)\n",
    "    \n",
    "    # 3-sigma variations to be simulated\n",
    "    beta_3sigma = 0.05;\n",
    "    LD_3sigma = 0.08;\n",
    "    gamma_3sigma= 0.6 * np.pi/180;\n",
    "    \n",
    "    # Generate random spreads for parameters and initial conditions\n",
    "    beta_vec = np.random.normal(params['beta'], beta_3sigma/3, num_iter)\n",
    "    LD_vec = np.random.normal(params['beta'], beta_3sigma/3, num_iter)\n",
    "    gamma0_vec = np.random.normal(params['beta'], beta_3sigma/3, num_iter)\n",
    "\n",
    "    results = []\n",
    "    for i in tqdm.trange(num_iter):\n",
    "        params_i = params.copy()\n",
    "        params_i['beta'] = beta_vec[i]\n",
    "        params_i['LD'] = LD_vec[i]\n",
    "        X0 = np.array([h0, s0, V0, gamma0_vec[i]])\n",
    "        \n",
    "        traj_i = sim_utils.simulate_entry_trajectory(\n",
    "            apollo_utils.traj_eom,\n",
    "            t0, \n",
    "            tf,\n",
    "            X0,\n",
    "            h_f,\n",
    "            params,\n",
    "            bank_controller,\n",
    "            t_eval=tspan)\n",
    "        results.append(traj_i)\n",
    "    \n",
    "    return results\n",
    "\n",
    "\n",
    "apollo = ApolloGuidanceBankController.from_file('apollo_data.npz')\n",
    "# open_loop_results = monte_carlo_simulation(apollo.reference_bank_angle)\n",
    "closed_loop_results = monte_carlo_simulation(apollo.closed_loop_guidance)"
   ]
  },
  {
   "cell_type": "code",
   "execution_count": 4,
   "id": "092f8588-c526-492a-8207-219b73043d62",
   "metadata": {},
   "outputs": [],
   "source": [
    "# ipywidgets tqdm matplotlib jupyterlab numpy scipy sympy"
   ]
  },
  {
   "cell_type": "code",
   "execution_count": 5,
   "id": "cf5e7655-d58a-494e-8873-e10c315a6697",
   "metadata": {},
   "outputs": [
    {
     "data": {
      "text/plain": [
       "1000"
      ]
     },
     "execution_count": 5,
     "metadata": {},
     "output_type": "execute_result"
    }
   ],
   "source": [
    "len(closed_loop_results)"
   ]
  },
  {
   "cell_type": "code",
   "execution_count": null,
   "id": "556dfc1e-2267-4ef6-ab99-c1dc37c63533",
   "metadata": {},
   "outputs": [],
   "source": []
  }
 ],
 "metadata": {
  "kernelspec": {
   "display_name": "Python 3",
   "language": "python",
   "name": "python3"
  },
  "language_info": {
   "codemirror_mode": {
    "name": "ipython",
    "version": 3
   },
   "file_extension": ".py",
   "mimetype": "text/x-python",
   "name": "python",
   "nbconvert_exporter": "python",
   "pygments_lexer": "ipython3",
   "version": "3.9.1"
  }
 },
 "nbformat": 4,
 "nbformat_minor": 5
}
